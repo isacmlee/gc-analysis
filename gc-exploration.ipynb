{
 "cells": [
  {
   "cell_type": "code",
   "execution_count": 2,
   "metadata": {},
   "outputs": [],
   "source": [
    "import sqlite3\n",
    "import pandas as pd\n",
    "import numpy as np\n",
    "import seaborn as sns\n",
    "from datetime import datetime\n",
    "import matplotlib.pyplot as plt\n",
    "import regex\n",
    "import emoji\n",
    "plt.style.use('fivethirtyeight')\n",
    "%matplotlib inline"
   ]
  },
  {
   "cell_type": "markdown",
   "metadata": {},
   "source": [
    "## Extracting Data "
   ]
  },
  {
   "cell_type": "code",
   "execution_count": 3,
   "metadata": {},
   "outputs": [
    {
     "name": "stdout",
     "output_type": "stream",
     "text": [
      "('_SqliteDatabaseProperties',)\n",
      "('deleted_messages',)\n",
      "('sqlite_sequence',)\n",
      "('chat_handle_join',)\n",
      "('chat_message_join',)\n",
      "('message_attachment_join',)\n",
      "('handle',)\n",
      "('message',)\n",
      "('chat',)\n",
      "('attachment',)\n",
      "('sync_deleted_messages',)\n",
      "('message_processing_task',)\n",
      "('sync_deleted_chats',)\n",
      "('sync_deleted_attachments',)\n",
      "('kvtable',)\n",
      "('sqlite_stat1',)\n"
     ]
    }
   ],
   "source": [
    "# Connecting to db\n",
    "conn = sqlite3.connect('/Users/isacmlee/Desktop/chat.db')\n",
    "cur = conn.cursor()\n",
    "\n",
    "# query the database to get all the table names\n",
    "cur.execute(\" select name from sqlite_master where type = 'table' \")\n",
    "\n",
    "for name in cur.fetchall():\n",
    "    print(name)"
   ]
  },
  {
   "cell_type": "code",
   "execution_count": 4,
   "metadata": {},
   "outputs": [],
   "source": [
    "## High Sierra and above\n",
    "messages = pd.read_sql_query('''select *, datetime(date/1000000000 + strftime(\"%s\", \"2001-01-01\") ,\"unixepoch\",\"localtime\")  as date_utc from message''', conn) \n",
    "\n",
    "handles = pd.read_sql_query(\"select * from handle\", conn)\n",
    "chat_message_joins = pd.read_sql_query(\"select * from chat_message_join\", conn)"
   ]
  },
  {
   "cell_type": "code",
   "execution_count": 5,
   "metadata": {},
   "outputs": [],
   "source": [
    "# these fields are only for ease of datetime analysis (e.g., number of messages per month or year)\n",
    "messages['message_date'] = messages['date']\n",
    "messages['timestamp'] = messages['date_utc'].apply(lambda x: pd.Timestamp(x))\n",
    "messages['date'] = messages['timestamp'].apply(lambda x: x.date())\n",
    "messages['month'] = messages['timestamp'].apply(lambda x: int(x.month))\n",
    "messages['year'] = messages['timestamp'].apply(lambda x: int(x.year))\n",
    "\n",
    "\n",
    "# rename the ROWID into message_id, because that's what it is\n",
    "messages.rename(columns={'ROWID' : 'message_id'}, inplace = True)\n",
    "\n",
    "# rename appropriately the handle and apple_id/phone_number as well\n",
    "handles.rename(columns={'id' : 'phone_number', 'ROWID': 'handle_id'}, inplace = True)"
   ]
  },
  {
   "cell_type": "code",
   "execution_count": 6,
   "metadata": {},
   "outputs": [
    {
     "name": "stdout",
     "output_type": "stream",
     "text": [
      "395108\n"
     ]
    }
   ],
   "source": [
    "# merge the messages with the handles\n",
    "merge_level_1 = pd.merge(messages[['text', 'handle_id', 'date','message_date' ,'timestamp', 'month','year','is_sent', 'message_id']],  handles[['handle_id', 'phone_number']], on ='handle_id', how='left')\n",
    "\n",
    "# and then that table with the chats\n",
    "df_messages = pd.merge(merge_level_1, chat_message_joins[['chat_id', 'message_id']], on = 'message_id', how='left')\n",
    "\n",
    "print(len(df_messages))\n",
    "#print(df_messages.head())"
   ]
  },
  {
   "cell_type": "code",
   "execution_count": 7,
   "metadata": {},
   "outputs": [],
   "source": [
    "# Replace phone numbers with names\n",
    "names = [\"Carla\",\"Tesa\",\"Tony\",\"Eliot\",\"Isac\"]\n",
    "# Hidden due to privacy\n",
    "numbers = [\"+-----------\",\"+---------\",\"+18182337540\",\"+18186209269\",np.nan]"
   ]
  },
  {
   "cell_type": "code",
   "execution_count": 8,
   "metadata": {},
   "outputs": [],
   "source": [
    "for i in range(len(names)):\n",
    "    df_messages = df_messages.replace(numbers[i],names[i])"
   ]
  },
  {
   "cell_type": "code",
   "execution_count": 9,
   "metadata": {
    "scrolled": true
   },
   "outputs": [
    {
     "data": {
      "text/plain": [
       "+18183261197    58389\n",
       "+18189383037    51802\n",
       "Isac            51085\n",
       "Tony            25252\n",
       "+16262157323    22848\n",
       "                ...  \n",
       "ovae                1\n",
       "+13233206392        1\n",
       "+13107538318        1\n",
       "+17606141979        1\n",
       "+12132385077        1\n",
       "Name: phone_number, Length: 464, dtype: int64"
      ]
     },
     "execution_count": 9,
     "metadata": {},
     "output_type": "execute_result"
    }
   ],
   "source": [
    "df_messages.phone_number.value_counts()"
   ]
  },
  {
   "cell_type": "code",
   "execution_count": 10,
   "metadata": {},
   "outputs": [],
   "source": [
    "df_messages = df_messages[df_messages.phone_number != \"+18184255611\"]"
   ]
  },
  {
   "cell_type": "code",
   "execution_count": 11,
   "metadata": {},
   "outputs": [],
   "source": [
    "# Groupchat that I want to analyze\n",
    "name = df_messages[df_messages.chat_id==555].copy()"
   ]
  },
  {
   "cell_type": "markdown",
   "metadata": {},
   "source": [
    "## Exploratory Data Analysis"
   ]
  },
  {
   "cell_type": "markdown",
   "metadata": {},
   "source": [
    "#### Most Active "
   ]
  },
  {
   "cell_type": "code",
   "execution_count": 16,
   "metadata": {},
   "outputs": [
    {
     "data": {
      "text/plain": [
       "Text(0.5, 1.0, 'Most Active')"
      ]
     },
     "execution_count": 16,
     "metadata": {},
     "output_type": "execute_result"
    },
    {
     "data": {
      "image/png": "[encoded data removed]",
      "text/plain": [
       "<Figure size 432x288 with 1 Axes>"
      ]
     },
     "metadata": {
      "needs_background": "light"
     },
     "output_type": "display_data"
    }
   ],
   "source": [
    "name.phone_number.hist()\n",
    "plt.title(\"Most Active\")"
   ]
  },
  {
   "cell_type": "code",
   "execution_count": 20,
   "metadata": {},
   "outputs": [],
   "source": [
    "name['emojis'] = name.text.apply(split_count) # extracting emojis"
   ]
  },
  {
   "cell_type": "code",
   "execution_count": 19,
   "metadata": {},
   "outputs": [],
   "source": [
    "# Helper function to extract emoji\n",
    "def split_count(text):\n",
    "    emoji_list = []\n",
    "    data = regex.findall(r'\\X', text)\n",
    "    for word in data:\n",
    "        if any(char in emoji.UNICODE_EMOJI for char in word):\n",
    "            emoji_list.append(word)\n",
    "    if len(emoji_list) == 0:\n",
    "        return np.nan\n",
    "    else:\n",
    "        return emoji_list"
   ]
  },
  {
   "cell_type": "code",
   "execution_count": 21,
   "metadata": {},
   "outputs": [],
   "source": [
    "name = name[name['emojis'].notna()]"
   ]
  },
  {
   "cell_type": "markdown",
   "metadata": {},
   "source": [
    "#### Emoji Usage"
   ]
  },
  {
   "cell_type": "code",
   "execution_count": 22,
   "metadata": {},
   "outputs": [],
   "source": [
    "# Dataframe for Emoji, Name\n",
    "emojis_uses = pd.DataFrame(columns=['emojis'])"
   ]
  },
  {
   "cell_type": "code",
   "execution_count": 23,
   "metadata": {},
   "outputs": [],
   "source": [
    "# Function to get most used emojis for each person\n",
    "def fav_emojis(df, name):\n",
    "    df = df[df['phone_number'] == name]\n",
    "    emoji_list = df['emojis'].tolist()\n",
    "    flattened = [a for b in df.emojis.tolist() for a in b]\n",
    "    names = [name] * len(flattened)\n",
    "    return flattened, names"
   ]
  },
  {
   "cell_type": "code",
   "execution_count": 24,
   "metadata": {},
   "outputs": [],
   "source": [
    "emoji_column = []\n",
    "name_column = []\n",
    "for i in names:\n",
    "    emoji_temp, name_temp = fav_emojis(name,i)\n",
    "    emoji_column.append(emoji_temp)\n",
    "    name_column.append(name_temp)\n",
    "name_column = [a for b in name_column for a in b]\n",
    "emoji_column = [a for b in emoji_column for a in b]"
   ]
  },
  {
   "cell_type": "code",
   "execution_count": 25,
   "metadata": {},
   "outputs": [],
   "source": [
    "emojis_uses['emojis'] = emoji_column\n",
    "emojis_uses['name'] = name_column"
   ]
  },
  {
   "cell_type": "code",
   "execution_count": 74,
   "metadata": {
    "scrolled": true
   },
   "outputs": [
    {
     "data": {
      "text/html": [
       "<div>\n",
       "<style scoped>\n",
       "    .dataframe tbody tr th:only-of-type {\n",
       "        vertical-align: middle;\n",
       "    }\n",
       "\n",
       "    .dataframe tbody tr th {\n",
       "        vertical-align: top;\n",
       "    }\n",
       "\n",
       "    .dataframe thead th {\n",
       "        text-align: right;\n",
       "    }\n",
       "</style>\n",
       "<table border=\"1\" class=\"dataframe\">\n",
       "  <thead>\n",
       "    <tr style=\"text-align: right;\">\n",
       "      <th>emojis</th>\n",
       "      <th>‼️</th>\n",
       "      <th>☀️</th>\n",
       "      <th>☣️</th>\n",
       "      <th>♀️</th>\n",
       "      <th>♥️</th>\n",
       "      <th>♻️</th>\n",
       "      <th>⚠️</th>\n",
       "      <th>✈️</th>\n",
       "      <th>✨</th>\n",
       "      <th>❌</th>\n",
       "      <th>...</th>\n",
       "      <th>🤷🏻‍♂️</th>\n",
       "      <th>🥰</th>\n",
       "      <th>🥱</th>\n",
       "      <th>🥳</th>\n",
       "      <th>🥴</th>\n",
       "      <th>🥵</th>\n",
       "      <th>🥺</th>\n",
       "      <th>🦚</th>\n",
       "      <th>🦠</th>\n",
       "      <th>🧬</th>\n",
       "    </tr>\n",
       "    <tr>\n",
       "      <th>name</th>\n",
       "      <th></th>\n",
       "      <th></th>\n",
       "      <th></th>\n",
       "      <th></th>\n",
       "      <th></th>\n",
       "      <th></th>\n",
       "      <th></th>\n",
       "      <th></th>\n",
       "      <th></th>\n",
       "      <th></th>\n",
       "      <th></th>\n",
       "      <th></th>\n",
       "      <th></th>\n",
       "      <th></th>\n",
       "      <th></th>\n",
       "      <th></th>\n",
       "      <th></th>\n",
       "      <th></th>\n",
       "      <th></th>\n",
       "      <th></th>\n",
       "      <th></th>\n",
       "    </tr>\n",
       "  </thead>\n",
       "  <tbody>\n",
       "    <tr>\n",
       "      <th>Carla</th>\n",
       "      <td>6</td>\n",
       "      <td>1</td>\n",
       "      <td>1</td>\n",
       "      <td>0</td>\n",
       "      <td>0</td>\n",
       "      <td>0</td>\n",
       "      <td>1</td>\n",
       "      <td>1</td>\n",
       "      <td>0</td>\n",
       "      <td>1</td>\n",
       "      <td>...</td>\n",
       "      <td>0</td>\n",
       "      <td>3</td>\n",
       "      <td>1</td>\n",
       "      <td>2</td>\n",
       "      <td>5</td>\n",
       "      <td>1</td>\n",
       "      <td>33</td>\n",
       "      <td>0</td>\n",
       "      <td>11</td>\n",
       "      <td>1</td>\n",
       "    </tr>\n",
       "    <tr>\n",
       "      <th>Tesa</th>\n",
       "      <td>1</td>\n",
       "      <td>0</td>\n",
       "      <td>0</td>\n",
       "      <td>0</td>\n",
       "      <td>2</td>\n",
       "      <td>1</td>\n",
       "      <td>0</td>\n",
       "      <td>0</td>\n",
       "      <td>1</td>\n",
       "      <td>0</td>\n",
       "      <td>...</td>\n",
       "      <td>0</td>\n",
       "      <td>5</td>\n",
       "      <td>2</td>\n",
       "      <td>0</td>\n",
       "      <td>13</td>\n",
       "      <td>1</td>\n",
       "      <td>30</td>\n",
       "      <td>1</td>\n",
       "      <td>0</td>\n",
       "      <td>0</td>\n",
       "    </tr>\n",
       "    <tr>\n",
       "      <th>Isac</th>\n",
       "      <td>0</td>\n",
       "      <td>0</td>\n",
       "      <td>0</td>\n",
       "      <td>1</td>\n",
       "      <td>1</td>\n",
       "      <td>0</td>\n",
       "      <td>0</td>\n",
       "      <td>0</td>\n",
       "      <td>0</td>\n",
       "      <td>0</td>\n",
       "      <td>...</td>\n",
       "      <td>1</td>\n",
       "      <td>2</td>\n",
       "      <td>1</td>\n",
       "      <td>1</td>\n",
       "      <td>1</td>\n",
       "      <td>0</td>\n",
       "      <td>10</td>\n",
       "      <td>0</td>\n",
       "      <td>0</td>\n",
       "      <td>0</td>\n",
       "    </tr>\n",
       "    <tr>\n",
       "      <th>Tony</th>\n",
       "      <td>0</td>\n",
       "      <td>0</td>\n",
       "      <td>0</td>\n",
       "      <td>0</td>\n",
       "      <td>1</td>\n",
       "      <td>0</td>\n",
       "      <td>0</td>\n",
       "      <td>0</td>\n",
       "      <td>0</td>\n",
       "      <td>0</td>\n",
       "      <td>...</td>\n",
       "      <td>0</td>\n",
       "      <td>1</td>\n",
       "      <td>0</td>\n",
       "      <td>2</td>\n",
       "      <td>4</td>\n",
       "      <td>0</td>\n",
       "      <td>3</td>\n",
       "      <td>0</td>\n",
       "      <td>0</td>\n",
       "      <td>0</td>\n",
       "    </tr>\n",
       "    <tr>\n",
       "      <th>Eliot</th>\n",
       "      <td>0</td>\n",
       "      <td>0</td>\n",
       "      <td>0</td>\n",
       "      <td>0</td>\n",
       "      <td>0</td>\n",
       "      <td>0</td>\n",
       "      <td>0</td>\n",
       "      <td>0</td>\n",
       "      <td>0</td>\n",
       "      <td>0</td>\n",
       "      <td>...</td>\n",
       "      <td>0</td>\n",
       "      <td>0</td>\n",
       "      <td>2</td>\n",
       "      <td>2</td>\n",
       "      <td>4</td>\n",
       "      <td>5</td>\n",
       "      <td>20</td>\n",
       "      <td>0</td>\n",
       "      <td>0</td>\n",
       "      <td>0</td>\n",
       "    </tr>\n",
       "  </tbody>\n",
       "</table>\n",
       "<p>5 rows × 160 columns</p>\n",
       "</div>"
      ],
      "text/plain": [
       "emojis  ‼️  ☀️  ☣️  ♀️  ♥️  ♻️  ⚠️  ✈️  ✨  ❌  ...  🤷🏻‍♂️  🥰  🥱  🥳   🥴  🥵   🥺  \\\n",
       "name                                          ...                              \n",
       "Carla    6   1   1   0   0   0   1   1  0  1  ...      0  3  1  2   5  1  33   \n",
       "Tesa     1   0   0   0   2   1   0   0  1  0  ...      0  5  2  0  13  1  30   \n",
       "Isac     0   0   0   1   1   0   0   0  0  0  ...      1  2  1  1   1  0  10   \n",
       "Tony     0   0   0   0   1   0   0   0  0  0  ...      0  1  0  2   4  0   3   \n",
       "Eliot    0   0   0   0   0   0   0   0  0  0  ...      0  0  2  2   4  5  20   \n",
       "\n",
       "emojis  🦚   🦠  🧬  \n",
       "name              \n",
       "Carla   0  11  1  \n",
       "Tesa    1   0  0  \n",
       "Isac    0   0  0  \n",
       "Tony    0   0  0  \n",
       "Eliot   0   0  0  \n",
       "\n",
       "[5 rows x 160 columns]"
      ]
     },
     "execution_count": 74,
     "metadata": {},
     "output_type": "execute_result"
    }
   ],
   "source": [
    "chart = emojis_uses.groupby(['name', 'emojis']).size().unstack(fill_value=0)\n",
    "chart.sort_values(list(chart.columns),ascending=False)\n"
   ]
  },
  {
   "cell_type": "markdown",
   "metadata": {},
   "source": [
    "#### Time Analysis"
   ]
  },
  {
   "cell_type": "code",
   "execution_count": 59,
   "metadata": {},
   "outputs": [],
   "source": [
    "time_df = df_messages[df_messages.chat_id==555].copy()"
   ]
  },
  {
   "cell_type": "code",
   "execution_count": 60,
   "metadata": {},
   "outputs": [
    {
     "data": {
      "text/plain": [
       "text                    object\n",
       "handle_id                int64\n",
       "date                    object\n",
       "message_date             int64\n",
       "timestamp       datetime64[ns]\n",
       "month                    int64\n",
       "year                     int64\n",
       "is_sent                  int64\n",
       "message_id               int64\n",
       "phone_number            object\n",
       "chat_id                 object\n",
       "dtype: object"
      ]
     },
     "execution_count": 60,
     "metadata": {},
     "output_type": "execute_result"
    }
   ],
   "source": [
    "time_df.dtypes"
   ]
  },
  {
   "cell_type": "code",
   "execution_count": 61,
   "metadata": {},
   "outputs": [],
   "source": [
    "time_df['hour'] = time_df.timestamp.dt.hour\n",
    "time_df['minutes'] = time_df.timestamp.dt.minute"
   ]
  },
  {
   "cell_type": "code",
   "execution_count": 62,
   "metadata": {},
   "outputs": [],
   "source": [
    "time_df['time'] = time_df.timestamp.dt.time"
   ]
  },
  {
   "cell_type": "code",
   "execution_count": 63,
   "metadata": {},
   "outputs": [],
   "source": [
    "time_df = time_df[['text','phone_number','hour','minutes','timestamp','time']]\n",
    "# time_df.to_csv(\"time.csv\")"
   ]
  },
  {
   "cell_type": "code",
   "execution_count": 65,
   "metadata": {},
   "outputs": [],
   "source": [
    "time_df.to_csv(\"time.csv\")"
   ]
  },
  {
   "cell_type": "code",
   "execution_count": 57,
   "metadata": {},
   "outputs": [
    {
     "data": {
      "image/png": "[encoded data removed]",
      "text/plain": [
       "<Figure size 432x288 with 1 Axes>"
      ]
     },
     "metadata": {
      "needs_background": "light"
     },
     "output_type": "display_data"
    }
   ],
   "source": [
    "ax = sns.scatterplot(x=\"hour\", y=\"phone_number\", data=time_df)\n",
    "ax.set_title(\"Hours of Activity\")\n",
    "plt.show()"
   ]
  },
  {
   "cell_type": "code",
   "execution_count": 58,
   "metadata": {},
   "outputs": [
    {
     "data": {
      "text/plain": [
       "<matplotlib.legend.Legend at 0x1297683d0>"
      ]
     },
     "execution_count": 58,
     "metadata": {},
     "output_type": "execute_result"
    },
    {
     "data": {
      "image/png": "[encoded data removed]",
      "text/plain": [
       "<Figure size 432x288 with 1 Axes>"
      ]
     },
     "metadata": {
      "needs_background": "light"
     },
     "output_type": "display_data"
    }
   ],
   "source": [
    "time_df[time_df.phone_number == \"Eliot\"].hour.hist(bins=10,alpha=.5,label='Eliot')\n",
    "# time_df[time_df.phone_number == \"Carla\"].time.hist(bins=10,alpha=.5,label='Carla')\n",
    "# time_df[time_df.phone_number == \"Tony\"].hour.hist(bins=10,alpha=.2,label='Tony')\n",
    "# time_df[time_df.phone_number == \"Tesa\"].hour.hist(bins=10,alpha=.2,label='Tesa')\n",
    "# time_df[time_df.phone_number == \"Isac\"].hour.hist(bins=10,alpha=.2,label='Isac')\n",
    "plt.legend(loc='upper right')"
   ]
  },
  {
   "cell_type": "code",
   "execution_count": null,
   "metadata": {},
   "outputs": [],
   "source": []
  }
 ],
 "metadata": {
  "kernelspec": {
   "display_name": "Python 3",
   "language": "python",
   "name": "python3"
  },
  "language_info": {
   "codemirror_mode": {
    "name": "ipython",
    "version": 3
   },
   "file_extension": ".py",
   "mimetype": "text/x-python",
   "name": "python",
   "nbconvert_exporter": "python",
   "pygments_lexer": "ipython3",
   "version": "3.8.2"
  }
 },
 "nbformat": 4,
 "nbformat_minor": 4
}
